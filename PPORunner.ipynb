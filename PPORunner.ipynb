{
  "nbformat": 4,
  "nbformat_minor": 0,
  "metadata": {
    "colab": {
      "provenance": []
    },
    "kernelspec": {
      "name": "python3",
      "display_name": "Python 3"
    },
    "language_info": {
      "name": "python"
    }
  },
  "cells": [
    {
      "cell_type": "markdown",
      "source": [
        "#Portfolio Optimizer using [PyPortfolioOpt](https://github.com/robertmartin8/PyPortfolioOpt/tree/master), optimizer runner code edited from [Example](https://github.com/robertmartin8/PyPortfolioOpt/blob/master/example/examples.py) </br>Constructed by [Carter Susi](https://github.com/carter4299)</br> Data [Last Updated: 07/10/23](https://github.com/carter4299/update_resources)"
      ],
      "metadata": {
        "id": "oYbsKbBWj3z4"
      }
    },
    {
      "cell_type": "markdown",
      "source": [
        "--------------------------------------------------------------------------------"
      ],
      "metadata": {
        "id": "6j3Wx0YSlWQl"
      }
    },
    {
      "cell_type": "markdown",
      "source": [
        "##Press the play buttons in order\n",
        "\n",
        "\n",
        "\n"
      ],
      "metadata": {
        "id": "lkxmhV_-Reto"
      }
    },
    {
      "cell_type": "code",
      "source": [
        "#@title\n",
        "!pip install PyPortfolioOpt yfinance pandas numpy\n"
      ],
      "metadata": {
        "cellView": "form",
        "id": "oBvPKiuIDdHa"
      },
      "execution_count": null,
      "outputs": []
    },
    {
      "cell_type": "code",
      "source": [
        "#@title\n",
        "import yfinance as yf\n",
        "import pandas as pd\n",
        "from datetime import date\n",
        "import numpy as np\n",
        "from pypfopt import (\n",
        "    CLA,\n",
        "    BlackLittermanModel,\n",
        "    EfficientFrontier,\n",
        "    HRPOpt,\n",
        "    black_litterman,\n",
        "    expected_returns,\n",
        "    plotting,\n",
        "    risk_models,\n",
        ")"
      ],
      "metadata": {
        "cellView": "form",
        "id": "PrvyitkNDBsd"
      },
      "execution_count": null,
      "outputs": []
    },
    {
      "cell_type": "markdown",
      "source": [
        "--------------------------------------------------------------------------------"
      ],
      "metadata": {
        "id": "TMZ_GA-jlrEl"
      }
    },
    {
      "cell_type": "code",
      "execution_count": null,
      "metadata": {
        "id": "cUp9bt-I-55I",
        "cellView": "form"
      },
      "outputs": [],
      "source": [
        "#@title Enter your stocks and amounts\n",
        "#@markdown Enter the stocks you own, separated by commas:\n",
        "stocks = 'AAPL,GOOG,META' #@param {type:\"string\"}\n",
        "#@markdown Enter the amount of each stock you own, in the same order, separated by commas:\n",
        "amounts = '10.5,15.2,20.7' #@param {type:\"string\"}\n",
        "try:\n",
        "    stocks_list = [stock.strip() for stock in stocks.split(',')]\n",
        "    amounts_list = [float(amount.strip()) for amount in amounts.split(',')]\n",
        "    if len(stocks_list) != len(amounts_list):\n",
        "        raise ValueError(\"The number of stocks and amounts do not match.\")\n",
        "    portfolio = dict(zip(stocks_list, amounts_list))\n",
        "    init_portfolio = {}\n",
        "    tp = 0\n",
        "    for stock in stocks_list:\n",
        "        ticker = yf.Ticker(stock)\n",
        "        last_quote = ticker.history()['Close'].iloc[-1]\n",
        "        temp_tp = last_quote * portfolio[stock]\n",
        "        tp += temp_tp\n",
        "        init_portfolio[stock] = f'$ {temp_tp}'\n",
        "    print(f'Youre initial portfolio {init_portfolio}')\n",
        "except ValueError as e:\n",
        "    print(\"Error:\", e)"
      ]
    },
    {
      "cell_type": "code",
      "source": [
        "#@title\n",
        "def ret_stock_prices():\n",
        "    m =  pd.read_csv('https://raw.githubusercontent.com/carter4299/active_ticker_history/main/daily_prices/tick_info.csv')\n",
        "    sp = []\n",
        "    mc = {}\n",
        "    for stock in stocks_list:\n",
        "        print(stock)\n",
        "        y = (yf.download(stock, start=\"1900-01-01\", end=str(date.today()), interval='1d'))\n",
        "        sp.append(y.iloc[:, 4].rename(stock))\n",
        "        mc[stock] = m.loc[m['s'] == stock, 'm'].values[0]\n",
        "\n",
        "    return pd.concat(sp, axis=1), mc\n",
        "\n",
        "def ret_spy_prices():\n",
        "    print(\"SPY\")\n",
        "    return pd.read_csv('https://raw.githubusercontent.com/carter4299/update_resources/main/spy_prices.csv', parse_dates=True, index_col=0)\n",
        "\n",
        "\n",
        "stock_prices, mcaps = ret_stock_prices()\n",
        "spy_prices = ret_spy_prices()\n",
        "if spy_prices is not None:\n",
        "    print(\"Import Successful\")\n",
        "else:\n",
        "    print(\"Import Failure, please try to open link\")\n"
      ],
      "metadata": {
        "cellView": "form",
        "id": "R-ChpLAwATLx"
      },
      "execution_count": null,
      "outputs": []
    },
    {
      "cell_type": "markdown",
      "source": [
        "--------------------------------------------------------------------------------"
      ],
      "metadata": {
        "id": "XVdSlya9ltuh"
      }
    },
    {
      "cell_type": "code",
      "source": [
        "#@title Optimizer\n",
        "returns = stock_prices.pct_change().dropna()\n",
        "mu = expected_returns.mean_historical_return(stock_prices)\n",
        "S = risk_models.sample_cov(stock_prices)\n",
        "\n",
        "\n",
        "# Now try with a nonconvex objective from  Kolm et al (2014)\n",
        "def deviation_risk_parity(w, cov_matrix):\n",
        "    diff = w * np.dot(cov_matrix, w) - (w * np.dot(cov_matrix, w)).reshape(-1, 1)\n",
        "    return (diff**2).sum().sum()\n",
        "\n",
        "\n",
        "ef = EfficientFrontier(mu, S)\n",
        "weightz = ef.nonconvex_objective(deviation_risk_parity, ef.cov_matrix)\n",
        "efz = {}\n",
        "for stock in stock_prices:\n",
        "    efz[stock] = f'$ {weightz[stock] * tp}'\n",
        "print(f'Nonconvex Objective\\n{efz}')\n",
        "ef.portfolio_performance(verbose=True)\n",
        "\n",
        "\n",
        "# Hierarchical risk parity\n",
        "hrp = HRPOpt(returns)\n",
        "weights = hrp.optimize()\n",
        "print(\"\\nHierarchical risk parity\")\n",
        "#print(weights)\n",
        "hrpz = {}\n",
        "for stock in stock_prices:\n",
        "    hrpz[stock] = f'$ {weights[stock] * tp}'\n",
        "print(hrpz)\n",
        "hrp.portfolio_performance(verbose=True)\n",
        "plotting.plot_dendrogram(hrp)  # to plot dendrogram\n",
        "\n",
        "\n",
        "\n",
        "# Crticial Line Algorithm\n",
        "cla = CLA(mu, S)\n",
        "print('\\nCrticial Line Algorithm')\n",
        "clay = cla.max_sharpe()\n",
        "claz = {}\n",
        "for stock in stock_prices:\n",
        "    claz[stock] = f'$ {clay[stock] * tp}'\n",
        "print(claz)\n",
        "cla.portfolio_performance(verbose=True)\n",
        "print('\\n')\n",
        "plotting.plot_efficient_frontier(cla)  # to plot"
      ],
      "metadata": {
        "cellView": "form",
        "id": "hBHwfcb3L3bT"
      },
      "execution_count": null,
      "outputs": []
    }
  ]
}